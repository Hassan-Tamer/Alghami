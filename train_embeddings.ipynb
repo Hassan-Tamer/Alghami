{
 "cells": [
  {
   "cell_type": "code",
   "execution_count": 6,
   "metadata": {},
   "outputs": [],
   "source": [
    "from torch import nn , save , load\n",
    "import torch\n",
    "import numpy as np\n",
    "from tqdm.notebook import tqdm\n",
    "import torch.nn.functional as F"
   ]
  },
  {
   "cell_type": "code",
   "execution_count": 7,
   "metadata": {},
   "outputs": [
    {
     "name": "stdout",
     "output_type": "stream",
     "text": [
      "cuda\n"
     ]
    }
   ],
   "source": [
    "# Checking if GPU is available\n",
    "device = torch.device(\"cuda\" if torch.cuda.is_available() else \"cpu\")\n",
    "print(device)"
   ]
  },
  {
   "cell_type": "code",
   "execution_count": 8,
   "metadata": {},
   "outputs": [
    {
     "data": {
      "text/plain": [
       "(999,)"
      ]
     },
     "execution_count": 8,
     "metadata": {},
     "output_type": "execute_result"
    }
   ],
   "source": [
    "X = np.load(\"X.npy\", allow_pickle=True)\n",
    "y = np.load(\"y.npy\", allow_pickle=True)\n",
    "y.shape\n"
   ]
  },
  {
   "cell_type": "code",
   "execution_count": 9,
   "metadata": {},
   "outputs": [
    {
     "data": {
      "text/plain": [
       "torch.Size([999, 31, 128])"
      ]
     },
     "execution_count": 9,
     "metadata": {},
     "output_type": "execute_result"
    }
   ],
   "source": [
    "X/=255.0\n",
    "X = torch.tensor(X, dtype=torch.float32)\n",
    "X.shape"
   ]
  },
  {
   "cell_type": "code",
   "execution_count": 10,
   "metadata": {},
   "outputs": [
    {
     "data": {
      "text/plain": [
       "tensor([0, 0, 0, 0, 0, 0, 0, 0, 0, 0, 0, 0, 0, 0, 0, 0, 0, 0, 0, 0, 0, 0, 0, 0,\n",
       "        0, 0, 0, 0, 0, 0, 0, 0, 0, 0, 0, 0, 0, 0, 0, 0, 0, 0, 0, 0, 0, 0, 0, 0,\n",
       "        0, 0, 0, 0, 0, 0, 0, 0, 0, 0, 0, 0, 0, 0, 0, 0, 0, 0, 0, 0, 0, 0, 0, 0,\n",
       "        0, 0, 0, 0, 0, 0, 0, 0, 0, 0, 0, 0, 0, 0, 0, 0, 0, 0, 0, 0, 0, 0, 0, 0,\n",
       "        0, 0, 0, 0, 1, 1, 1, 1, 1, 1, 1, 1, 1, 1, 1, 1, 1, 1, 1, 1, 1, 1, 1, 1,\n",
       "        1, 1, 1, 1, 1, 1, 1, 1, 1, 1, 1, 1, 1, 1, 1, 1, 1, 1, 1, 1, 1, 1, 1, 1,\n",
       "        1, 1, 1, 1, 1, 1, 1, 1, 1, 1, 1, 1, 1, 1, 1, 1, 1, 1, 1, 1, 1, 1, 1, 1,\n",
       "        1, 1, 1, 1, 1, 1, 1, 1, 1, 1, 1, 1, 1, 1, 1, 1, 1, 1, 1, 1, 1, 1, 1, 1,\n",
       "        1, 1, 1, 1, 1, 1, 1, 1, 2, 2, 2, 2, 2, 2, 2, 2, 2, 2, 2, 2, 2, 2, 2, 2,\n",
       "        2, 2, 2, 2, 2, 2, 2, 2, 2, 2, 2, 2, 2, 2, 2, 2, 2, 2, 2, 2, 2, 2, 2, 2,\n",
       "        2, 2, 2, 2, 2, 2, 2, 2, 2, 2, 2, 2, 2, 2, 2, 2, 2, 2, 2, 2, 2, 2, 2, 2,\n",
       "        2, 2, 2, 2, 2, 2, 2, 2, 2, 2, 2, 2, 2, 2, 2, 2, 2, 2, 2, 2, 2, 2, 2, 2,\n",
       "        2, 2, 2, 2, 2, 2, 2, 2, 2, 2, 2, 2, 3, 3, 3, 3, 3, 3, 3, 3, 3, 3, 3, 3,\n",
       "        3, 3, 3, 3, 3, 3, 3, 3, 3, 3, 3, 3, 3, 3, 3, 3, 3, 3, 3, 3, 3, 3, 3, 3,\n",
       "        3, 3, 3, 3, 3, 3, 3, 3, 3, 3, 3, 3, 3, 3, 3, 3, 3, 3, 3, 3, 3, 3, 3, 3,\n",
       "        3, 3, 3, 3, 3, 3, 3, 3, 3, 3, 3, 3, 3, 3, 3, 3, 3, 3, 3, 3, 3, 3, 3, 3,\n",
       "        3, 3, 3, 3, 3, 3, 3, 3, 3, 3, 3, 3, 3, 3, 3, 3, 4, 4, 4, 4, 4, 4, 4, 4,\n",
       "        4, 4, 4, 4, 4, 4, 4, 4, 4, 4, 4, 4, 4, 4, 4, 4, 4, 4, 4, 4, 4, 4, 4, 4,\n",
       "        4, 4, 4, 4, 4, 4, 4, 4, 4, 4, 4, 4, 4, 4, 4, 4, 4, 4, 4, 4, 4, 4, 4, 4,\n",
       "        4, 4, 4, 4, 4, 4, 4, 4, 4, 4, 4, 4, 4, 4, 4, 4, 4, 4, 4, 4, 4, 4, 4, 4,\n",
       "        4, 4, 4, 4, 4, 4, 4, 4, 4, 4, 4, 4, 4, 4, 4, 4, 4, 4, 4, 4, 5, 5, 5, 5,\n",
       "        5, 5, 5, 5, 5, 5, 5, 5, 5, 5, 5, 5, 5, 5, 5, 5, 5, 5, 5, 5, 5, 5, 5, 5,\n",
       "        5, 5, 5, 5, 5, 5, 5, 5, 5, 5, 5, 5, 5, 5, 5, 5, 5, 5, 5, 5, 5, 5, 5, 5,\n",
       "        5, 5, 5, 5, 5, 5, 5, 5, 5, 5, 5, 5, 5, 5, 5, 5, 5, 5, 5, 5, 5, 5, 5, 5,\n",
       "        5, 5, 5, 5, 5, 5, 5, 5, 5, 5, 5, 5, 5, 5, 5, 5, 5, 5, 5, 5, 5, 5, 5, 6,\n",
       "        6, 6, 6, 6, 6, 6, 6, 6, 6, 6, 6, 6, 6, 6, 6, 6, 6, 6, 6, 6, 6, 6, 6, 6,\n",
       "        6, 6, 6, 6, 6, 6, 6, 6, 6, 6, 6, 6, 6, 6, 6, 6, 6, 6, 6, 6, 6, 6, 6, 6,\n",
       "        6, 6, 6, 6, 6, 6, 6, 6, 6, 6, 6, 6, 6, 6, 6, 6, 6, 6, 6, 6, 6, 6, 6, 6,\n",
       "        6, 6, 6, 6, 6, 6, 6, 6, 6, 6, 6, 6, 6, 6, 6, 6, 6, 6, 6, 6, 6, 6, 6, 6,\n",
       "        6, 6, 6, 7, 7, 7, 7, 7, 7, 7, 7, 7, 7, 7, 7, 7, 7, 7, 7, 7, 7, 7, 7, 7,\n",
       "        7, 7, 7, 7, 7, 7, 7, 7, 7, 7, 7, 7, 7, 7, 7, 7, 7, 7, 7, 7, 7, 7, 7, 7,\n",
       "        7, 7, 7, 7, 7, 7, 7, 7, 7, 7, 7, 7, 7, 7, 7, 7, 7, 7, 7, 7, 7, 7, 7, 7,\n",
       "        7, 7, 7, 7, 7, 7, 7, 7, 7, 7, 7, 7, 7, 7, 7, 7, 7, 7, 7, 7, 7, 7, 7, 7,\n",
       "        7, 7, 7, 7, 7, 7, 7, 8, 8, 8, 8, 8, 8, 8, 8, 8, 8, 8, 8, 8, 8, 8, 8, 8,\n",
       "        8, 8, 8, 8, 8, 8, 8, 8, 8, 8, 8, 8, 8, 8, 8, 8, 8, 8, 8, 8, 8, 8, 8, 8,\n",
       "        8, 8, 8, 8, 8, 8, 8, 8, 8, 8, 8, 8, 8, 8, 8, 8, 8, 8, 8, 8, 8, 8, 8, 8,\n",
       "        8, 8, 8, 8, 8, 8, 8, 8, 8, 8, 8, 8, 8, 8, 8, 8, 8, 8, 8, 8, 8, 8, 8, 8,\n",
       "        8, 8, 8, 8, 8, 8, 8, 8, 8, 8, 8, 9, 9, 9, 9, 9, 9, 9, 9, 9, 9, 9, 9, 9,\n",
       "        9, 9, 9, 9, 9, 9, 9, 9, 9, 9, 9, 9, 9, 9, 9, 9, 9, 9, 9, 9, 9, 9, 9, 9,\n",
       "        9, 9, 9, 9, 9, 9, 9, 9, 9, 9, 9, 9, 9, 9, 9, 9, 9, 9, 9, 9, 9, 9, 9, 9,\n",
       "        9, 9, 9, 9, 9, 9, 9, 9, 9, 9, 9, 9, 9, 9, 9, 9, 9, 9, 9, 9, 9, 9, 9, 9,\n",
       "        9, 9, 9, 9, 9, 9, 9, 9, 9, 9, 9, 9, 9, 9, 9])"
      ]
     },
     "execution_count": 10,
     "metadata": {},
     "output_type": "execute_result"
    }
   ],
   "source": [
    "y = torch.tensor(y)\n",
    "y"
   ]
  },
  {
   "cell_type": "code",
   "execution_count": 11,
   "metadata": {},
   "outputs": [],
   "source": [
    "from sklearn.model_selection import train_test_split\n",
    "X_train, X_test, y_train, y_test = train_test_split(X, y, test_size=0.2, random_state=42)"
   ]
  },
  {
   "cell_type": "code",
   "execution_count": 12,
   "metadata": {},
   "outputs": [],
   "source": [
    "class NN_model(nn.Module):\n",
    "    def __init__(self,input_size,hidden1_size,hidden2_size,hidden3_size,hidden4_size,hidden5_size,output_size):\n",
    "        super(NN_model,self).__init__()\n",
    "        self.fc1 = torch.nn.Linear(input_size, hidden1_size)\n",
    "        self.fc2 = torch.nn.Linear(hidden1_size, hidden2_size)\n",
    "        self.fc3 = torch.nn.Linear(hidden2_size, hidden3_size)\n",
    "        self.fc4 = torch.nn.Linear(hidden3_size, hidden4_size)\n",
    "        self.fc5 = torch.nn.Linear(hidden4_size, hidden5_size)\n",
    "        self.fc6 = torch.nn.Linear(hidden5_size, output_size)        \n",
    "\n",
    "    def forward(self,x):\n",
    "        out = F.leaky_relu(self.fc1(x))\n",
    "        out = F.leaky_relu(self.fc2(out))\n",
    "        out = F.leaky_relu(self.fc3(out))\n",
    "        out = F.leaky_relu(self.fc4(out))\n",
    "        out = F.leaky_relu(self.fc5(out))\n",
    "        \n",
    "        out = self.fc6(out)\n",
    "        return out"
   ]
  },
  {
   "cell_type": "code",
   "execution_count": 13,
   "metadata": {},
   "outputs": [
    {
     "data": {
      "text/plain": [
       "31"
      ]
     },
     "execution_count": 13,
     "metadata": {},
     "output_type": "execute_result"
    }
   ],
   "source": [
    "X_train.shape[1]"
   ]
  },
  {
   "cell_type": "code",
   "execution_count": 14,
   "metadata": {},
   "outputs": [],
   "source": [
    "input_size = X_train.shape[1]*X_train.shape[2]\n",
    "\n",
    "hidden1_size = 4096\n",
    "hidden2_size = 2048\n",
    "hidden3_size = 1024\n",
    "hidden4_size = 512\n",
    "hidden5_size = 256\n",
    "\n",
    "num_classes = 10"
   ]
  },
  {
   "cell_type": "code",
   "execution_count": 15,
   "metadata": {},
   "outputs": [
    {
     "name": "stdout",
     "output_type": "stream",
     "text": [
      "NN_model(\n",
      "  (fc1): Linear(in_features=3968, out_features=4096, bias=True)\n",
      "  (fc2): Linear(in_features=4096, out_features=2048, bias=True)\n",
      "  (fc3): Linear(in_features=2048, out_features=1024, bias=True)\n",
      "  (fc4): Linear(in_features=1024, out_features=512, bias=True)\n",
      "  (fc5): Linear(in_features=512, out_features=256, bias=True)\n",
      "  (fc6): Linear(in_features=256, out_features=10, bias=True)\n",
      ")\n"
     ]
    }
   ],
   "source": [
    "# Checking if working correctly or not\n",
    "model = NN_model(input_size, hidden1_size,hidden2_size,hidden3_size=hidden3_size,hidden4_size=hidden4_size,hidden5_size=hidden5_size, output_size=num_classes).to(device)\n",
    "print(model)"
   ]
  },
  {
   "cell_type": "code",
   "execution_count": 16,
   "metadata": {},
   "outputs": [],
   "source": [
    "num_epochs = 60\n",
    "batch_size = 64\n",
    "learning_rate = 0.001\n",
    "criterion = nn.CrossEntropyLoss()\n",
    "optimizer = torch.optim.Adam(model.parameters(), lr=learning_rate)"
   ]
  },
  {
   "cell_type": "code",
   "execution_count": 17,
   "metadata": {},
   "outputs": [
    {
     "name": "stdout",
     "output_type": "stream",
     "text": [
      "torch.Size([799, 31, 128])\n",
      "torch.Size([799])\n"
     ]
    }
   ],
   "source": [
    "print(X_train.shape)\n",
    "print(y_train.shape)"
   ]
  },
  {
   "cell_type": "code",
   "execution_count": 18,
   "metadata": {},
   "outputs": [],
   "source": [
    "from torch.utils.data import TensorDataset\n",
    "from torch.utils.data import DataLoader\n",
    "\n",
    "\n",
    "train_dataset = TensorDataset(X_train, y_train)\n",
    "test_dataset = TensorDataset(X_test, y_test)\n",
    "train_loader = DataLoader(train_dataset, batch_size=batch_size, shuffle=True)\n",
    "test_loader = DataLoader(test_dataset, batch_size=batch_size, shuffle=False)"
   ]
  },
  {
   "cell_type": "code",
   "execution_count": 19,
   "metadata": {},
   "outputs": [
    {
     "name": "stdout",
     "output_type": "stream",
     "text": [
      "Epoch [1/60], Step [10/13], Loss: 2.3069\n",
      "Epoch [2/60], Step [10/13], Loss: 2.1238\n",
      "Epoch [3/60], Step [10/13], Loss: 1.9903\n",
      "Epoch [4/60], Step [10/13], Loss: 1.9108\n",
      "Epoch [5/60], Step [10/13], Loss: 1.2881\n",
      "Epoch [6/60], Step [10/13], Loss: 1.2475\n",
      "Epoch [7/60], Step [10/13], Loss: 0.9318\n",
      "Epoch [8/60], Step [10/13], Loss: 1.1073\n",
      "Epoch [9/60], Step [10/13], Loss: 0.6426\n",
      "Epoch [10/60], Step [10/13], Loss: 0.7521\n",
      "Epoch [11/60], Step [10/13], Loss: 0.5148\n",
      "Epoch [12/60], Step [10/13], Loss: 1.3622\n",
      "Epoch [13/60], Step [10/13], Loss: 1.2544\n",
      "Epoch [14/60], Step [10/13], Loss: 0.8192\n",
      "Epoch [15/60], Step [10/13], Loss: 0.5811\n",
      "Epoch [16/60], Step [10/13], Loss: 0.4255\n",
      "Epoch [17/60], Step [10/13], Loss: 0.2587\n",
      "Epoch [18/60], Step [10/13], Loss: 0.6699\n",
      "Epoch [19/60], Step [10/13], Loss: 0.5888\n",
      "Epoch [20/60], Step [10/13], Loss: 0.8754\n",
      "Epoch [21/60], Step [10/13], Loss: 0.4974\n",
      "Epoch [22/60], Step [10/13], Loss: 0.3431\n",
      "Epoch [23/60], Step [10/13], Loss: 0.5640\n",
      "Epoch [24/60], Step [10/13], Loss: 0.4149\n",
      "Epoch [25/60], Step [10/13], Loss: 0.4651\n",
      "Epoch [26/60], Step [10/13], Loss: 0.4854\n",
      "Epoch [27/60], Step [10/13], Loss: 0.3883\n",
      "Epoch [28/60], Step [10/13], Loss: 0.2755\n",
      "Epoch [29/60], Step [10/13], Loss: 0.1515\n",
      "Epoch [30/60], Step [10/13], Loss: 0.0587\n",
      "Epoch [31/60], Step [10/13], Loss: 0.2469\n",
      "Epoch [32/60], Step [10/13], Loss: 0.1157\n",
      "Epoch [33/60], Step [10/13], Loss: 0.1483\n",
      "Epoch [34/60], Step [10/13], Loss: 0.2677\n",
      "Epoch [35/60], Step [10/13], Loss: 0.8228\n",
      "Epoch [36/60], Step [10/13], Loss: 0.1660\n",
      "Epoch [37/60], Step [10/13], Loss: 0.2335\n",
      "Epoch [38/60], Step [10/13], Loss: 0.0592\n",
      "Epoch [39/60], Step [10/13], Loss: 0.1056\n",
      "Epoch [40/60], Step [10/13], Loss: 0.0198\n",
      "Epoch [41/60], Step [10/13], Loss: 0.1132\n",
      "Epoch [42/60], Step [10/13], Loss: 0.2202\n",
      "Epoch [43/60], Step [10/13], Loss: 0.5665\n",
      "Epoch [44/60], Step [10/13], Loss: 0.6779\n",
      "Epoch [45/60], Step [10/13], Loss: 0.1922\n",
      "Epoch [46/60], Step [10/13], Loss: 0.0730\n",
      "Epoch [47/60], Step [10/13], Loss: 0.0574\n",
      "Epoch [48/60], Step [10/13], Loss: 0.1343\n",
      "Epoch [49/60], Step [10/13], Loss: 0.0068\n",
      "Epoch [50/60], Step [10/13], Loss: 0.3186\n",
      "Epoch [51/60], Step [10/13], Loss: 0.1276\n",
      "Epoch [52/60], Step [10/13], Loss: 0.3425\n",
      "Epoch [53/60], Step [10/13], Loss: 0.2472\n",
      "Epoch [54/60], Step [10/13], Loss: 0.1314\n",
      "Epoch [55/60], Step [10/13], Loss: 0.0625\n",
      "Epoch [56/60], Step [10/13], Loss: 0.2665\n",
      "Epoch [57/60], Step [10/13], Loss: 0.1581\n",
      "Epoch [58/60], Step [10/13], Loss: 0.1381\n"
     ]
    }
   ],
   "source": [
    "n_total_steps = len(train_loader)\n",
    "train_loss = []\n",
    "for epoch in range(num_epochs):\n",
    "    for i, (embeddings,labels) in enumerate(train_loader):\n",
    "        embeddings = embeddings.to(device)\n",
    "        labels = labels.to(device)\n",
    "        embeddings = embeddings.reshape(embeddings.shape[0],-1)\n",
    "        # Forward pass\n",
    "        outputs = model(embeddings)\n",
    "        loss = criterion(outputs, labels)\n",
    "        # Backward and optimize\n",
    "        optimizer.zero_grad()\n",
    "        loss.backward()\n",
    "        optimizer.step()\n",
    "\n",
    "        if (i+1) % 10 == 0:\n",
    "            print (f'Epoch [{epoch+1}/{num_epochs}], Step [{i+1}/{n_total_steps}], Loss: {loss.item():.4f}')\n",
    "            train_loss.append(loss.item())\n",
    "\n",
    "        if loss.item() < 0.04:\n",
    "            break"
   ]
  },
  {
   "cell_type": "code",
   "execution_count": 20,
   "metadata": {},
   "outputs": [
    {
     "name": "stdout",
     "output_type": "stream",
     "text": [
      "Got 791 from 799 with accuracy 99.00\n"
     ]
    }
   ],
   "source": [
    "def check_accuracy(loader, model):\n",
    "    num_correct = 0\n",
    "    num_samples = 0\n",
    "    model.eval()\n",
    "\n",
    "    with torch.no_grad():\n",
    "        for x, y in loader:\n",
    "            x = x.to(device=device)\n",
    "            y = y.to(device=device)\n",
    "            x = x.reshape(x.shape[0], -1)\n",
    "\n",
    "            scores = model(x)\n",
    "            _, predictions = scores.max(1)\n",
    "            num_correct += (predictions == y).sum()\n",
    "            num_samples += predictions.size(0)\n",
    "\n",
    "        print(\n",
    "            f\"Got {num_correct} from {num_samples} with accuracy\"\n",
    "            f\" {float(num_correct) / float(num_samples) * 100:.2f}\"\n",
    "        )\n",
    "\n",
    "    # model.train()\n",
    "    \n",
    "check_accuracy(train_loader, model)"
   ]
  },
  {
   "cell_type": "code",
   "execution_count": 21,
   "metadata": {},
   "outputs": [
    {
     "data": {
      "text/plain": [
       "<Axes: >"
      ]
     },
     "execution_count": 21,
     "metadata": {},
     "output_type": "execute_result"
    },
    {
     "data": {
      "image/png": "[encoded data removed]",
      "text/plain": [
       "<Figure size 1200x700 with 2 Axes>"
      ]
     },
     "metadata": {},
     "output_type": "display_data"
    }
   ],
   "source": [
    "from sklearn.metrics import confusion_matrix\n",
    "import seaborn as sn\n",
    "import pandas as pd\n",
    "import matplotlib.pyplot as plt\n",
    "\n",
    "y_pred = []\n",
    "y_true = []\n",
    "\n",
    "# iterate over test data\n",
    "with torch.no_grad():\n",
    "\n",
    "  for inputs, labels in test_loader:\n",
    "          inputs = inputs.to(device)\n",
    "          labels = labels.to(device)\n",
    "          inputs = inputs.reshape(inputs.shape[0], -1)\n",
    "\n",
    "          output = model(inputs)\n",
    "\n",
    "          output = (torch.max(torch.exp(output), 1)[1]).data.cpu().numpy()\n",
    "          y_pred.extend(output)\n",
    "\n",
    "          labels = labels.data.cpu().numpy()\n",
    "          y_true.extend(labels)\n",
    "\n",
    "  classes = (\"blues\" , \"classical\" , \"country\" , \"disco\" , \"hiphop\" , \"jazz\" , \"metal\" , \"pop\" , \"reggae\" , \"rock\")\n",
    "\n",
    "cf_matrix = confusion_matrix(y_true, y_pred)\n",
    "df_cm = pd.DataFrame(cf_matrix / np.sum(cf_matrix, axis=1)[:, None], index = [i for i in classes],\n",
    "                     columns = [i for i in classes])\n",
    "plt.figure(figsize = (12,7))\n",
    "sn.heatmap(df_cm, annot=True)"
   ]
  },
  {
   "cell_type": "code",
   "execution_count": 22,
   "metadata": {},
   "outputs": [
    {
     "name": "stdout",
     "output_type": "stream",
     "text": [
      "Accuracy = 84.50%\n",
      "Classification Report: \n",
      "               precision    recall  f1-score   support\n",
      "\n",
      "       blues       1.00      0.67      0.80        21\n",
      "   classical       0.92      1.00      0.96        12\n",
      "     country       0.94      0.71      0.81        24\n",
      "       disco       0.79      0.86      0.83        22\n",
      "      hiphop       0.87      0.87      0.87        15\n",
      "        jazz       1.00      0.93      0.96        27\n",
      "       metal       0.85      0.94      0.89        18\n",
      "         pop       0.90      1.00      0.95        19\n",
      "      reggae       0.74      0.91      0.82        22\n",
      "        rock       0.57      0.65      0.60        20\n",
      "\n",
      "    accuracy                           0.84       200\n",
      "   macro avg       0.86      0.85      0.85       200\n",
      "weighted avg       0.86      0.84      0.85       200\n",
      "\n"
     ]
    }
   ],
   "source": [
    "from sklearn.metrics import f1_score, accuracy_score, classification_report\n",
    "acc = accuracy_score(y_pred,y_true) * 100\n",
    "report=classification_report(y_true, y_pred,target_names = classes)\n",
    "print(f\"Accuracy = {acc:.2f}%\")\n",
    "print(\"Classification Report: \\n\",report)"
   ]
  },
  {
   "cell_type": "code",
   "execution_count": 25,
   "metadata": {},
   "outputs": [],
   "source": [
    "mod = torch.save(model,\"best.pth\")"
   ]
  },
  {
   "cell_type": "code",
   "execution_count": 29,
   "metadata": {},
   "outputs": [
    {
     "data": {
      "text/plain": [
       "NN_model(\n",
       "  (fc1): Linear(in_features=3968, out_features=4096, bias=True)\n",
       "  (fc2): Linear(in_features=4096, out_features=2048, bias=True)\n",
       "  (fc3): Linear(in_features=2048, out_features=1024, bias=True)\n",
       "  (fc4): Linear(in_features=1024, out_features=512, bias=True)\n",
       "  (fc5): Linear(in_features=512, out_features=256, bias=True)\n",
       "  (fc6): Linear(in_features=256, out_features=10, bias=True)\n",
       ")"
      ]
     },
     "execution_count": 29,
     "metadata": {},
     "output_type": "execute_result"
    }
   ],
   "source": [
    "mod.eval()\n"
   ]
  },
  {
   "cell_type": "code",
   "execution_count": 66,
   "metadata": {},
   "outputs": [
    {
     "name": "stdout",
     "output_type": "stream",
     "text": [
      "disco\n"
     ]
    }
   ],
   "source": [
    "from torchvggish import vggish, vggish_input\n",
    "\n",
    "embedding_model = vggish()\n",
    "embedding_model.eval()\n",
    "\n",
    "pred_path = \"/home/hassan/Documents/eme/Alghami/Dataset/genres_original/disco/disco.00000.wav\"\n",
    "try:\n",
    "    example = vggish_input.wavfile_to_examples(pred_path)\n",
    "    embeddings = embedding_model.forward(example)\n",
    "    embeddings = embeddings.detach().numpy()\n",
    "    embeddings/=255.0\n",
    "    embeddings = embeddings.reshape(1,embeddings.shape[0]*embeddings.shape[1])\n",
    "    embeddings = torch.tensor(embeddings, dtype=torch.float32).to(device)\n",
    "except:\n",
    "    print(\"Error in extracting embedding\")\n",
    "    exit(1)\n",
    "\n",
    "\n",
    "out = mod(embeddings)\n",
    "pred = (torch.max(torch.exp(out), 1)[1]).data.cpu().numpy()\n",
    "classes = (\"blues\" , \"classical\" , \"country\" , \"disco\" , \"hiphop\" , \"jazz\" , \"metal\" , \"pop\" , \"reggae\" , \"rock\")\n",
    "print(classes[pred[0]])"
   ]
  },
  {
   "cell_type": "code",
   "execution_count": null,
   "metadata": {},
   "outputs": [],
   "source": []
  }
 ],
 "metadata": {
  "kernelspec": {
   "display_name": "Python 3",
   "language": "python",
   "name": "python3"
  },
  "language_info": {
   "codemirror_mode": {
    "name": "ipython",
    "version": 3
   },
   "file_extension": ".py",
   "mimetype": "text/x-python",
   "name": "python",
   "nbconvert_exporter": "python",
   "pygments_lexer": "ipython3",
   "version": "3.8.10"
  },
  "orig_nbformat": 4
 },
 "nbformat": 4,
 "nbformat_minor": 2
}
